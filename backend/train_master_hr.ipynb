{
 "cells": [
  {
   "cell_type": "code",
   "execution_count": 14,
   "id": "bf6f289b",
   "metadata": {
    "lines_to_next_cell": 1
   },
   "outputs": [],
   "source": [
    "import sys\n",
    "import time\n",
    "from google import genai\n",
    "from google.genai import types\n",
    "from IPython.display import Markdown\n",
    "from IPython.display import display\n",
    "from dotenv import load_dotenv\n",
    "import os\n",
    "import glob\n",
    "import chromadb\n",
    "from chromadb import Documents, EmbeddingFunction, Embeddings\n",
    "from google.api_core import retry\n",
    "from langcodes import Language\n",
    "from collections import defaultdict\n",
    "from tqdm import tqdm\n",
    "from langchain_text_splitters import MarkdownHeaderTextSplitter, RecursiveCharacterTextSplitter\n",
    "from langchain_core.documents import Document\n",
    "import re\n",
    "from collections import defaultdict\n",
    "from typing import List, Tuple\n",
    "import fasttext\n",
    "import re\n",
    "from typing import Any, Dict, List, Tuple"
   ]
  },
  {
   "cell_type": "code",
   "execution_count": 15,
   "id": "2ad699fd",
   "metadata": {
    "lines_to_next_cell": 1
   },
   "outputs": [],
   "source": [
    "def import_google_api():\n",
    "    load_dotenv()\n",
    "    GOOGLE_API_KEY = os.getenv(\"GOOGLE_API_KEY\")\n",
    "\n",
    "    client = genai.Client(api_key=GOOGLE_API_KEY)\n",
    "\n",
    "    # Simple model check (keeping the original print logic)\n",
    "    for m in client.models.list():\n",
    "        if \"embedContent\" in m.supported_actions:\n",
    "            print(m.name)\n",
    "\n",
    "    return client"
   ]
  },
  {
   "cell_type": "code",
   "execution_count": 16,
   "id": "4b4171d9",
   "metadata": {
    "lines_to_next_cell": 1
   },
   "outputs": [],
   "source": [
    "def embedding_function(client):\n",
    "    class GeminiEmbeddingFunction(EmbeddingFunction):\n",
    "        document_mode = True\n",
    "\n",
    "        def __init__(self, client):\n",
    "            self.client = client\n",
    "            # Retry only on specific transient API errors\n",
    "            self._retry = retry.Retry(predicate=lambda e: isinstance(e, genai.errors.APIError) and e.code in {429, 503})\n",
    "\n",
    "        def __call__(self, input: Documents) -> Embeddings:\n",
    "            embedding_task = \"retrieval_document\" if self.document_mode else \"retrieval_query\"\n",
    "            response = self._retry(self.client.models.embed_content)(\n",
    "                model=\"models/text-embedding-004\",\n",
    "                contents=input,\n",
    "                config=types.EmbedContentConfig(task_type=embedding_task),\n",
    "            )\n",
    "            return [e.values for e in response.embeddings]\n",
    "\n",
    "    return GeminiEmbeddingFunction(client)"
   ]
  },
  {
   "cell_type": "code",
   "execution_count": 17,
   "id": "34fb3f4f",
   "metadata": {
    "lines_to_next_cell": 1
   },
   "outputs": [],
   "source": [
    "# Assuming 'Document' is a class/dataclass with 'page_content' and 'metadata' attributes\n",
    "# from a library like LangChain, LlamaIndex, etc.\n",
    "class Document:\n",
    "    def __init__(self, page_content: str, metadata: dict = None):\n",
    "        self.page_content = page_content\n",
    "        self.metadata = metadata if metadata is not None else {}\n",
    "\n",
    "# NOTE: The original doc_stats, filename_base, google_drive_path, and all_chunks \n",
    "# are not defined in the provided snippet. I'll define placeholders or \n",
    "# make assumptions for a runnable example.\n",
    "\n",
    "def parse_markdown_for_metadata(directory: str, google_drive_path: str = None) -> List[Document]:\n",
    "    \"\"\"\n",
    "    Reads markdown files in a directory (and subdirectories) and creates a \n",
    "    single Document for each file, adding relevant metadata, but does not chunk.\n",
    "    \"\"\"\n",
    "    markdown_files = glob.glob(os.path.join(directory, '**/*.md'), recursive=True)\n",
    "    if not markdown_files:\n",
    "        print(\"No markdown files found\")\n",
    "        return []\n",
    "\n",
    "    print(f\"Processing {len(markdown_files)} markdown files...\")\n",
    "    \n",
    "    all_documents = []\n",
    "\n",
    "    for filepath in tqdm(markdown_files, desc=\"Processing documents\"):\n",
    "        try:\n",
    "            with open(filepath, 'r', encoding='utf-8') as f:\n",
    "                markdown_text = f.read()\n",
    "        except Exception as e:\n",
    "            print(f\"\\nWarning: Could not read file {filepath}: {e}\")\n",
    "            continue\n",
    "\n",
    "        # Extract basic file name for metadata\n",
    "        filename_base = os.path.basename(filepath)\n",
    "\n",
    "        # Create a single Document for the entire file content\n",
    "        doc = Document(page_content=markdown_text)\n",
    "\n",
    "        # Add metadata\n",
    "        doc.metadata[\"source\"] = filename_base\n",
    "        # Use google_drive_path if provided, otherwise use local path\n",
    "        doc.metadata[\"source_path\"] = google_drive_path or filepath \n",
    "        \n",
    "        # NOTE: Since we are not chunking by headers, we won't have a specific header.\n",
    "        # We set it to an empty string or a placeholder.\n",
    "        doc.metadata[\"header\"] = \"\" \n",
    "        \n",
    "        # Since the entire file is one document, these values reflect that.\n",
    "        doc.metadata[\"chunk_index\"] = 0\n",
    "        doc.metadata[\"total_chunks\"] = 1\n",
    "        doc.metadata[\"is_complete_doc\"] = True\n",
    "        \n",
    "        all_documents.append(doc)\n",
    "\n",
    "    print(f\"\\nSuccessfully processed {len(all_documents)} files into documents.\")\n",
    "    return all_documents"
   ]
  },
  {
   "cell_type": "code",
   "execution_count": 18,
   "id": "af21f7b0",
   "metadata": {
    "lines_to_next_cell": 1
   },
   "outputs": [],
   "source": [
    "def create_collection(chroma_client, gemini_embedding_function, documents_list):\n",
    "    \"\"\"\n",
    "    Create or update ChromaDB collection with optimized batch processing.\n",
    "    \"\"\"\n",
    "    DB_NAME = \"hrstud-bot-hr\"\n",
    "    embed_fn = gemini_embedding_function\n",
    "    embed_fn.document_mode = True\n",
    "\n",
    "    db = chroma_client.get_or_create_collection(\n",
    "        name=DB_NAME,\n",
    "        metadata={\"model\": \"models/text-embedding-004\", \"dimension\": 768},\n",
    "        embedding_function=embed_fn\n",
    "    )\n",
    "\n",
    "    documents = [doc.page_content for doc in documents_list]\n",
    "    metadatas = [doc.metadata for doc in documents_list]\n",
    "    ids = [f\"{DB_NAME}_doc_{i}\" for i in range(len(documents))]\n",
    "\n",
    "    if db.count() == 0:\n",
    "        print(f\"Adding {len(documents)} documents to ChromaDB collection: {DB_NAME}\")\n",
    "\n",
    "        # Optimized batch size for Gemini API\n",
    "        BATCH_SIZE = 100\n",
    "        \n",
    "        for i in tqdm(range(0, len(documents), BATCH_SIZE), desc=\"Adding documents\", unit=\"batch\"):\n",
    "            batch_end = min(i + BATCH_SIZE, len(documents))\n",
    "            db.add(\n",
    "                documents=documents[i:batch_end],\n",
    "                metadatas=metadatas[i:batch_end],\n",
    "                ids=ids[i:batch_end]\n",
    "            )\n",
    "            # Rate limiting for API stability\n",
    "            time.sleep(0.2)\n",
    "\n",
    "        print(f\"\\nCollection '{DB_NAME}' now contains {db.count()} documents.\")\n",
    "    else:\n",
    "        print(f\"Collection '{DB_NAME}' already has {db.count()} documents.\")"
   ]
  },
  {
   "cell_type": "code",
   "execution_count": 19,
   "id": "891a657a",
   "metadata": {
    "lines_to_next_cell": 1
   },
   "outputs": [],
   "source": [
    "def persistent_client(embed_fn):\n",
    "    \"\"\"\n",
    "    Initialize persistent ChromaDB client.\n",
    "    \"\"\"\n",
    "    persist_dir = \"./output_hr\"\n",
    "    chroma_client = chromadb.PersistentClient(path=persist_dir)\n",
    "\n",
    "    DB_NAME = \"hrstud-bot-hr\"\n",
    "    collection = chroma_client.get_collection(DB_NAME, embedding_function=embed_fn)\n",
    "\n",
    "    print(f\"Connected to collection: {collection.name}\")\n",
    "    print(f\"Documents: {collection.count()}\")\n",
    "    print(f\"Metadata: {collection.metadata}\")\n",
    "    return embed_fn, collection"
   ]
  },
  {
   "cell_type": "code",
   "execution_count": 20,
   "id": "05886a06",
   "metadata": {},
   "outputs": [
    {
     "name": "stderr",
     "output_type": "stream",
     "text": [
      "Warning : `load_model` does not return WordVectorModel or SupervisedModel any more, but a `FastText` object which is very similar.\n"
     ]
    }
   ],
   "source": [
    "# NOTE: Placeholder for helper function (used in the original snippet)\n",
    "def _no_answer_response():\n",
    "    \"\"\"Standard no-answer response.\"\"\"\n",
    "    return (\"Ispričavamo se, ali ne mogu pronaći relevantan odgovor u bazi znanja. \"\n",
    "            \"Molimo kontaktirajte odgovarajuću službu za dodatne informacije.\")\n",
    "\n",
    "# FastText model loading assumed to be successful from the previous block\n",
    "LID_MODEL = fasttext.load_model('./fasttext/lid.176.ftz') \n",
    "\n",
    "def get_article_hr(user_query, embed_fn, collection, client):\n",
    "    \n",
    "    # Switch to query mode when generating embeddings\n",
    "    embed_fn.document_mode = False\n",
    "\n",
    "    # Retrieve top 1 document (based on your n_results=1 in the original code)\n",
    "    # The result structure is a dict: {'ids': [[]], 'distances': [[]], 'documents': [[]], 'metadatas': [[]], ...}\n",
    "    n_results_to_fetch = 7 # Fetch more results for a richer context\n",
    "    result = collection.query(query_texts=[user_query], n_results=n_results_to_fetch)\n",
    "    \n",
    "    # Extract documents (list of passages) and metadatas (list of dicts)\n",
    "    all_passages = result[\"documents\"][0]\n",
    "    all_metadatas = result[\"metadatas\"][0]\n",
    "\n",
    "    query_oneline = user_query.replace(\"\\n\", \" \")\n",
    "    print(query_oneline)\n",
    "    \n",
    "    # 1. CONSTRUCT THE CONTEXT\n",
    "    context_list = []\n",
    "    # Use the metadata from the top result to define the main source link\n",
    "    # Assuming 'source_path' contains the URL or relevant file path\n",
    "    #document_link = all_metadatas[0].get(\"source_path\", \"Link nije dostupan\")\n",
    "    \n",
    "    for i, (passage, metadata) in enumerate(zip(all_passages, all_metadatas)):\n",
    "        # Format the context for the model\n",
    "        source_name = metadata.get(\"source\", \"Nepoznat izvor\")\n",
    "        # I removed the redundant \"PASSAGE: \" wrapper that was causing issues\n",
    "        context_list.append(f\"--- Izvor: {source_name} (Dio {i+1} od {len(all_passages)}) ---\\n{passage.strip()}\")\n",
    "\n",
    "    # Join all context chunks into a single string\n",
    "    context = \"\\n\\n\".join(context_list)\n",
    "    \n",
    "    # 2. CONSTRUCT THE PROMPT\n",
    "    # The document_link is now a defined variable\n",
    "    prompt = f\"\"\"\n",
    "    Ti si ljubazan, precizan i informativan chatbot **Fakulteta Hrvatskih studija**. Tvoja je glavna zadaća odgovarati na pitanja studenata, potencijalnih studenata i osoblja o fakultetu, uključujući informacije o studijima, nastavi, smjerovima, prijavama, i općenitim informacijama o školi.\n",
    "\n",
    "    **KRITIČNA PRAVILA:**\n",
    "    1.  Koristi ISKLJUČIVO informacije iz dostavljene dokumentacije.\n",
    "    2.  Odgovaraj na **Hrvatskom jeziku**.\n",
    "    3.  Budi koncizan ali potpun — navedi sve relevantne detalje iz konteksta.\n",
    "    4.  Ako dokumentacija ne sadrži odgovor, jasno i ljubazno reci da ne možeš pronaći odgovor u bazi znanja i uputi na kontaktiranje odgovarajuće službe.\n",
    "    5.  **Ne smiješ koristiti fraze poput \"Naravno, mogu vam pomoći!\" ili \"Evo nekoliko informacija o...\". Odmah započni s relevantnim odgovorom.**\n",
    "\n",
    "    **FORMATIRANJE ODGOVORA:**\n",
    "    * Sve odgovore započni s **Izvorni link je [LINK](url)**, nakon čega slijedi prazan red.\n",
    "    * Nemoj navoditi izvorni link dokumenta samo URL. npr nemoj navoditi: Izvorni link: ./markdown/fhs.hr_predmet_opsv.md\n",
    "    * Koristi podebljani tekst za ključne pojmove (npr. **Upisi**, **Filozofija**, **Pročelnik**).\n",
    "    * Koristi popise (liste) za nabrajanje informacija (studiji, uvjeti, rokovi).\n",
    "    * Odgovori trebaju biti profesionalni i službeni, ali s ljubaznim tonom.\n",
    "\n",
    "    **DOSTUPNA DOKUMENTACIJA (Kontekst):**\n",
    "    {context}\n",
    "\n",
    "    **KORISNIČKO PITANJE:** {query_oneline}\n",
    "\n",
    "    **ODGOVOR:**\n",
    "    \"\"\"\n",
    "    \n",
    "    # 3. Call the model\n",
    "    answer = client.models.generate_content(\n",
    "        model=\"gemini-2.0-flash\",\n",
    "        contents=prompt, # Use the full prompt\n",
    "        config={\n",
    "            \"max_output_tokens\": 2048,\n",
    "            \"temperature\": 0.2,\n",
    "            \"top_p\": 0.9\n",
    "        }\n",
    "    )\n",
    "    \n",
    "    # Prepend the link as per your strict instruction, since Gemini might not format the first line perfectly\n",
    "    #final_response = f\"Izvorni link: {document_link}\\n\\n{answer.text.strip()}\"\n",
    "    \n",
    "    #return final_response\n",
    "\n",
    "    return answer.text.strip()"
   ]
  },
  {
   "cell_type": "code",
   "execution_count": 21,
   "id": "7e2725bf",
   "metadata": {},
   "outputs": [
    {
     "name": "stdout",
     "output_type": "stream",
     "text": [
      "Processing 1095 markdown files...\n"
     ]
    },
    {
     "name": "stderr",
     "output_type": "stream",
     "text": [
      "Processing documents:   0%|          | 0/1095 [00:00<?, ?it/s]"
     ]
    },
    {
     "name": "stderr",
     "output_type": "stream",
     "text": [
      "Processing documents: 100%|██████████| 1095/1095 [00:00<00:00, 2401.48it/s]\n"
     ]
    },
    {
     "name": "stdout",
     "output_type": "stream",
     "text": [
      "\n",
      "Successfully processed 1095 files into documents.\n",
      "models/embedding-001\n",
      "models/text-embedding-004\n",
      "models/gemini-embedding-exp-03-07\n",
      "models/gemini-embedding-exp\n",
      "models/gemini-embedding-001\n",
      "Collection 'hrstud-bot-hr' already has 1095 documents.\n"
     ]
    }
   ],
   "source": [
    "# USAGE EXAMPLE - Uncomment to run\n",
    "\n",
    "markdown_folder = \"./markdown_hr\"\n",
    "# \n",
    "# # STEP 1: Parse and chunk documents (run once or when documents change)\n",
    "md_documents = parse_markdown_for_metadata(markdown_folder)\n",
    "# \n",
    "# # STEP 2: Create collection and add documents (run once)\n",
    "client = import_google_api()\n",
    "gemini_embedding_function = embedding_function(client)\n",
    "chroma_persistent_client = chromadb.PersistentClient(path=\"./output_hr\")\n",
    "create_collection(chroma_persistent_client, gemini_embedding_function, md_documents)"
   ]
  },
  {
   "cell_type": "code",
   "execution_count": 22,
   "id": "52583056",
   "metadata": {},
   "outputs": [
    {
     "name": "stdout",
     "output_type": "stream",
     "text": [
      "models/embedding-001\n",
      "models/text-embedding-004\n",
      "models/gemini-embedding-exp-03-07\n",
      "models/gemini-embedding-exp\n",
      "models/gemini-embedding-001\n",
      "Connected to collection: hrstud-bot-hr\n",
      "Documents: 1095\n",
      "Metadata: {'model': 'models/text-embedding-004', 'dimension': 768}\n",
      "Tko je Sandro Skansi?\n"
     ]
    },
    {
     "data": {
      "text/markdown": [
       "Izvorni link je [https://www.fhs.hr/djelatnik/sandro.skansi](https://www.fhs.hr/djelatnik/sandro.skansi)\n",
       "\n",
       "**Sandro Skansi** je izvanredni profesor.\n",
       "\n",
       "**Kontakt:**\n",
       "*   Konzultacije: Nakon predavanja uz obveznu raniju najavu mailom ili po dogovoru\n",
       "*   E-mail: [sskansi@fhs.hr](javascript:startMail\\('ffnxfa@vus.feu'\\);)\n",
       "*   Osobna stranica: [sandroskansi.info](https://www.fhs.hr/djelatnik/sandroskansi.info)\n",
       "\n",
       "**Odsjek:** ODSJEK ZA **FILOZOFIJU** I KULTUROLOGIJU\n",
       "**Godina diplomiranja:** 2009.\n",
       "**Godina doktoriranja:** 2013.\n",
       "**Na odjelu od:** 2017.\n",
       "\n",
       "**Nastava:**\n",
       "*   **Prijediplomski:**\n",
       "    *   [Društveni mediji i neformalna logika (284939)](https://www.fhs.hr/predmet/dmnl) - Nositelj\n",
       "    *   [Logika 2 (214825)](https://www.fhs.hr/predmet/log2_a) - Nositelj, Seminar\n",
       "    *   [Socijalna filozofija (214837)](https://www.fhs.hr/predmet/socfil_b) - Nositelj\n",
       "    *   [Uvod u umjetnu inteligenciju (227468)](https://www.fhs.hr/predmet/uuui) - Nositelj, Seminar\n",
       "    *   [Završni rad (38774)](https://www.fhs.hr/predmet/zavrad) - Seminar\n",
       "*   **Diplomski:**\n",
       "    *   [Filozofija politike (201514)](https://www.fhs.hr/predmet/filpol) - Nositelj\n",
       "    *   [Suvremena filozofija (214821)](https://www.fhs.hr/predmet/suvfil_a) - Nositelj, Seminar\n",
       "    *   [Umjetna inteligencija i razumijevanje prirodnoga jezika (269284)](https://www.fhs.hr/predmet/uirpj) - Nositelj, Seminar\n",
       "    *   [Diplomski rad (214814)](https://www.fhs.hr/predmet/diprad_f) - Seminar\n",
       "*   **Doktorski:**\n",
       "    *   [Politička i pravna filozofija (258066)](https://www.fhs.hr/predmet/ppf_c) - Nositelj\n",
       "    *   [Estetika (258065)](https://www.fhs.hr/predmet/est_a) - Predavanja\n",
       "\n",
       "**Životopis:**\n",
       "Sandro Skansi je rođen 1985. godine u Zagrebu, gdje završava osnovnu školu i klasičnu gimnaziju. 2009. diplomira na Hrvatskim studijima **filozofiju** i kroatologiju, a 2013. godine doktorira na Filozofskom fakultetu u Zagrebu disertacijom iz logike (Humanističke znanosti/Filozofija/Logika 6.01,01.). Glavni mu je jezik Python.\n",
       "\n",
       "Član je Hrvatskog filozofskog drustva, Hrvatskog logičkog udruženja i Association for the Advancement of Artificial Intelligence. Izradio je ili nadzirao izradu za produkcijske sustave umjetne inteligencije za Erste Banku, Iskon, Eurostat, A1 Telekom i HOK osiguranje.\n",
       "\n",
       "Detaljan životopis se može naći [ovdje](https://www.fhs.hr/images/50040087/CV_23-3.pdf).\n",
       "\n",
       "**Profesionalni interesi i članstva**\n",
       "Znanstveni interesi:\n",
       "\n",
       "*   Zaključivanje\n",
       "*   Duboko učenje\n",
       "*   Povijest logike i kibernetike u istočnom bloku\n",
       "*   Filozofija uma\n",
       "\n",
       "Članstva:\n",
       "\n",
       "*   Association for the Advancement of Artificial Intelligence\n",
       "*   Hrvatsko filozofsko društvo\n",
       "*   Hrvatsko logičko udruženje\n",
       "*   Veneti nel Mondo\n",
       "\n",
       "**Povijest zaposlenja**\n",
       "\n",
       "Od 2014. radi kao software developer u Infigo Information Security, od 2016. kao podatkovni znanstvenik u IN2, a 2017. prihvaća poziciju Voditelja za naprednu analitiku u A1 telekomu. Krajem 2017. postaje docent iz logike na Hrvatske studije Sveučilišta u Zagrebu. Od 2016. do 2019. godine je radio i kao predavač iz računarstva na Visokom učilištu Algebra.\n",
       "\n",
       "**Hobiji i osobni interesi**\n",
       "\n",
       "Streljaštvo"
      ],
      "text/plain": [
       "<IPython.core.display.Markdown object>"
      ]
     },
     "metadata": {},
     "output_type": "display_data"
    }
   ],
   "source": [
    "# STEP 3: Query the system (run for each query)\n",
    "# \n",
    "client = import_google_api()\n",
    "gemini_embedding_function = embedding_function(client)\n",
    "embed_fn, collection = persistent_client(gemini_embedding_function)\n",
    "# \n",
    "user_query = \"Tko je Sandro Skansi?\"  # Example query\n",
    "response = get_article_hr(\n",
    "    user_query=user_query,\n",
    "    embed_fn=embed_fn,\n",
    "    collection=collection,\n",
    "    client=client\n",
    ")\n",
    "display(Markdown(response))"
   ]
  },
  {
   "cell_type": "code",
   "execution_count": 23,
   "id": "55d872d1",
   "metadata": {},
   "outputs": [
    {
     "name": "stdout",
     "output_type": "stream",
     "text": [
      "\n",
      "############################################################\n",
      "QUERY: Koje predmete predaje Mato Škerbić?\n",
      "############################################################\n",
      "Koje predmete predaje Mato Škerbić?\n"
     ]
    },
    {
     "data": {
      "text/markdown": [
       "Izvorni link je [https://www.fhs.hr/djelatnik/matija_mato.skerbic](https://www.fhs.hr/djelatnik/matija_mato.skerbic)\n",
       "\n",
       "Doc. dr. sc. **Matija Mato Škerbić** predaje sljedeće predmete:\n",
       "\n",
       "**Prijediplomski:**\n",
       "*   **Etika** (214834) - Nositelj\n",
       "*   **Integrativna bioetika** (214015) - Nositelj\n",
       "*   **Nova etička kultura** (187891) - Nositelj, Seminar\n",
       "*   **Završni rad** (38774) - Seminar\n",
       "\n",
       "**Diplomski:**\n",
       "*   **Filozofija igre i športa** (187914) - Nositelj, Seminar\n",
       "*   **Filozofija odgoja** (61957) - Nositelj, Seminar\n",
       "*   **Filozofijska metodologija** (201535) - Nositelj, Seminar\n",
       "*   **Metodika nastave filozofije, logike i etike** (214635) - Nositelj\n",
       "*   **Diplomski rad** (214814) - Seminar"
      ],
      "text/plain": [
       "<IPython.core.display.Markdown object>"
      ]
     },
     "metadata": {},
     "output_type": "display_data"
    },
    {
     "name": "stdout",
     "output_type": "stream",
     "text": [
      "\n",
      "\n",
      "\n",
      "############################################################\n",
      "QUERY: Koje predmete predaje Sandro Skansi?\n",
      "############################################################\n",
      "Koje predmete predaje Sandro Skansi?\n"
     ]
    },
    {
     "data": {
      "text/markdown": [
       "Izvorni link je [https://www.fhs.hr/djelatnik/sandro.skansi](https://www.fhs.hr/djelatnik/sandro.skansi)\n",
       "\n",
       "**Izv. prof. dr. sc. Sandro Skansi** predaje sljedeće predmete:\n",
       "\n",
       "**Prijediplomski:**\n",
       "*   [Društveni mediji i neformalna logika (284939)](https://www.fhs.hr/predmet/dmnl) - Nositelj\n",
       "*   [Logika 2 (214825)](https://www.fhs.hr/predmet/log2_a) - Nositelj, Seminar\n",
       "*   [Socijalna filozofija (214837)](https://www.fhs.hr/predmet/socfil_b) - Nositelj\n",
       "*   [Uvod u umjetnu inteligenciju (227468)](https://www.fhs.hr/predmet/uuui) - Nositelj, Seminar\n",
       "*   [Završni rad (38774)](https://www.fhs.hr/predmet/zavrad) - Seminar\n",
       "\n",
       "**Diplomski:**\n",
       "\n",
       "*   [Filozofija politike (201514)](https://www.fhs.hr/predmet/filpol) - Nositelj\n",
       "*   [Suvremena filozofija (214821)](https://www.fhs.hr/predmet/suvfil_a) - Nositelj, Seminar\n",
       "*   [Umjetna inteligencija i razumijevanje prirodnoga jezika (269284)](https://www.fhs.hr/predmet/uirpj) - Nositelj, Seminar\n",
       "*   [Diplomski rad (214814)](https://www.fhs.hr/predmet/diprad_f) - Seminar\n",
       "\n",
       "**Doktorski:**\n",
       "\n",
       "*   [Politička i pravna filozofija (258066)](https://www.fhs.hr/predmet/ppf_c) - Nositelj\n",
       "*   [Estetika (258065)](https://www.fhs.hr/predmet/est_a) - Predavanja"
      ],
      "text/plain": [
       "<IPython.core.display.Markdown object>"
      ]
     },
     "metadata": {},
     "output_type": "display_data"
    },
    {
     "name": "stdout",
     "output_type": "stream",
     "text": [
      "\n",
      "\n",
      "\n",
      "############################################################\n",
      "QUERY: Tko predaje Opća povijest srednjeg vijeka?\n",
      "############################################################\n",
      "Tko predaje Opća povijest srednjeg vijeka?\n"
     ]
    },
    {
     "data": {
      "text/markdown": [
       "Izvorni link je [https://www.fhs.hr/predmet/opsv](https://www.fhs.hr/predmet/opsv)\n",
       "\n",
       "**Opća povijest srednjega vijeka** ima sljedećeg nositelja:\n",
       "\n",
       "*   izv. prof. dr. sc. [Marko Jerković](https://www.fhs.hr/djelatnik/marko.jerkovic)"
      ],
      "text/plain": [
       "<IPython.core.display.Markdown object>"
      ]
     },
     "metadata": {},
     "output_type": "display_data"
    },
    {
     "name": "stdout",
     "output_type": "stream",
     "text": [
      "\n",
      "\n"
     ]
    }
   ],
   "source": [
    "# ADVANCED: Test multiple queries\n",
    "# \n",
    "test_queries = [\n",
    "    \"Koje predmete predaje Mato Škerbić?\",\n",
    "    \"Koje predmete predaje Sandro Skansi?\",\n",
    "    \"Tko predaje Opća povijest srednjeg vijeka?\"\n",
    "]\n",
    "# \n",
    "for query in test_queries:\n",
    "    print(f\"\\n{'#'*60}\")\n",
    "    print(f\"QUERY: {query}\")\n",
    "    print(f\"{'#'*60}\")\n",
    "    response = get_article_hr(\n",
    "        user_query=query,\n",
    "        embed_fn=embed_fn,\n",
    "        collection=collection,\n",
    "        client=client\n",
    "    )\n",
    "    display(Markdown(response))\n",
    "    print(\"\\n\")"
   ]
  },
  {
   "cell_type": "code",
   "execution_count": 24,
   "id": "87afff21",
   "metadata": {},
   "outputs": [
    {
     "name": "stdout",
     "output_type": "stream",
     "text": [
      "\n",
      "############################################################\n",
      "QUERY: Koji je telefonski broj Snježane Konovski?\n",
      "############################################################\n",
      "Koji je telefonski broj Snježane Konovski?\n"
     ]
    },
    {
     "data": {
      "text/markdown": [
       "Izvorni link je [https://www.fhs.hr/o_nama/imenik/interni_telefonski_imenik](https://www.fhs.hr/o_nama/imenik/interni_telefonski_imenik)\n",
       "\n",
       "Telefonski broj **Snježane Konovski** je 7628, a nalazi se u sobi 023 u prizemlju glavne zgrade."
      ],
      "text/plain": [
       "<IPython.core.display.Markdown object>"
      ]
     },
     "metadata": {},
     "output_type": "display_data"
    },
    {
     "name": "stdout",
     "output_type": "stream",
     "text": [
      "\n",
      "\n"
     ]
    }
   ],
   "source": [
    "# ADVANCED: Test multiple queries\n",
    "# \n",
    "test_queries = [\n",
    "    \"Koji je telefonski broj Snježane Konovski?\"\n",
    "\n",
    "]\n",
    "# \n",
    "for query in test_queries:\n",
    "    print(f\"\\n{'#'*60}\")\n",
    "    print(f\"QUERY: {query}\")\n",
    "    print(f\"{'#'*60}\")\n",
    "    response = get_article_hr(\n",
    "        user_query=query,\n",
    "        embed_fn=embed_fn,\n",
    "        collection=collection,\n",
    "        client=client,\n",
    "    )\n",
    "    display(Markdown(response))\n",
    "    print(\"\\n\")"
   ]
  }
 ],
 "metadata": {
  "jupytext": {
   "cell_metadata_filter": "-all",
   "main_language": "python",
   "notebook_metadata_filter": "-all"
  },
  "kernelspec": {
   "display_name": ".venv",
   "language": "python",
   "name": "python3"
  },
  "language_info": {
   "codemirror_mode": {
    "name": "ipython",
    "version": 3
   },
   "file_extension": ".py",
   "mimetype": "text/x-python",
   "name": "python",
   "nbconvert_exporter": "python",
   "pygments_lexer": "ipython3",
   "version": "3.12.3"
  }
 },
 "nbformat": 4,
 "nbformat_minor": 5
}
