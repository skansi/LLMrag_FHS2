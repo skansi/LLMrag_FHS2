{
 "cells": [
  {
   "cell_type": "code",
   "execution_count": 19,
   "id": "bf6f289b",
   "metadata": {
    "lines_to_next_cell": 1
   },
   "outputs": [],
   "source": [
    "import sys\n",
    "import time\n",
    "from google import genai\n",
    "from google.genai import types\n",
    "from IPython.display import Markdown\n",
    "from IPython.display import display\n",
    "from dotenv import load_dotenv\n",
    "import os\n",
    "import glob\n",
    "import chromadb\n",
    "from chromadb import Documents, EmbeddingFunction, Embeddings\n",
    "from google.api_core import retry\n",
    "from langcodes import Language\n",
    "from collections import defaultdict\n",
    "from tqdm import tqdm\n",
    "from langchain_text_splitters import MarkdownHeaderTextSplitter, RecursiveCharacterTextSplitter\n",
    "from langchain_core.documents import Document\n",
    "import re\n",
    "from collections import defaultdict\n",
    "from typing import List, Tuple\n",
    "import fasttext\n",
    "import re\n",
    "from typing import Any, Dict, List, Tuple"
   ]
  },
  {
   "cell_type": "code",
   "execution_count": 20,
   "id": "2ad699fd",
   "metadata": {
    "lines_to_next_cell": 1
   },
   "outputs": [],
   "source": [
    "def import_google_api():\n",
    "    load_dotenv()\n",
    "    GOOGLE_API_KEY = os.getenv(\"GOOGLE_API_KEY\")\n",
    "\n",
    "    client = genai.Client(api_key=GOOGLE_API_KEY)\n",
    "\n",
    "    # Simple model check (keeping the original print logic)\n",
    "    for m in client.models.list():\n",
    "        if \"embedContent\" in m.supported_actions:\n",
    "            print(m.name)\n",
    "\n",
    "    return client"
   ]
  },
  {
   "cell_type": "code",
   "execution_count": 21,
   "id": "4b4171d9",
   "metadata": {
    "lines_to_next_cell": 1
   },
   "outputs": [],
   "source": [
    "def embedding_function(client):\n",
    "    class GeminiEmbeddingFunction(EmbeddingFunction):\n",
    "        document_mode = True\n",
    "\n",
    "        def __init__(self, client):\n",
    "            self.client = client\n",
    "            # Retry only on specific transient API errors\n",
    "            self._retry = retry.Retry(predicate=lambda e: isinstance(e, genai.errors.APIError) and e.code in {429, 503})\n",
    "\n",
    "        def __call__(self, input: Documents) -> Embeddings:\n",
    "            embedding_task = \"retrieval_document\" if self.document_mode else \"retrieval_query\"\n",
    "            response = self._retry(self.client.models.embed_content)(\n",
    "                model=\"models/text-embedding-004\",\n",
    "                contents=input,\n",
    "                config=types.EmbedContentConfig(task_type=embedding_task),\n",
    "            )\n",
    "            return [e.values for e in response.embeddings]\n",
    "\n",
    "    return GeminiEmbeddingFunction(client)"
   ]
  },
  {
   "cell_type": "code",
   "execution_count": 22,
   "id": "34fb3f4f",
   "metadata": {
    "lines_to_next_cell": 1
   },
   "outputs": [],
   "source": [
    "# Assuming 'Document' is a class/dataclass with 'page_content' and 'metadata' attributes\n",
    "# from a library like LangChain, LlamaIndex, etc.\n",
    "class Document:\n",
    "    def __init__(self, page_content: str, metadata: dict = None):\n",
    "        self.page_content = page_content\n",
    "        self.metadata = metadata if metadata is not None else {}\n",
    "\n",
    "# NOTE: The original doc_stats, filename_base, google_drive_path, and all_chunks \n",
    "# are not defined in the provided snippet. I'll define placeholders or \n",
    "# make assumptions for a runnable example.\n",
    "\n",
    "def parse_markdown_for_metadata(directory: str, google_drive_path: str = None) -> List[Document]:\n",
    "    \"\"\"\n",
    "    Reads markdown files in a directory (and subdirectories) and creates a \n",
    "    single Document for each file, adding relevant metadata, but does not chunk.\n",
    "    \"\"\"\n",
    "    markdown_files = glob.glob(os.path.join(directory, '**/*.md'), recursive=True)\n",
    "    if not markdown_files:\n",
    "        print(\"No markdown files found\")\n",
    "        return []\n",
    "\n",
    "    print(f\"Processing {len(markdown_files)} markdown files...\")\n",
    "    \n",
    "    all_documents = []\n",
    "\n",
    "    for filepath in tqdm(markdown_files, desc=\"Processing documents\"):\n",
    "        try:\n",
    "            with open(filepath, 'r', encoding='utf-8') as f:\n",
    "                markdown_text = f.read()\n",
    "        except Exception as e:\n",
    "            print(f\"\\nWarning: Could not read file {filepath}: {e}\")\n",
    "            continue\n",
    "\n",
    "        # Extract basic file name for metadata\n",
    "        filename_base = os.path.basename(filepath)\n",
    "\n",
    "        # Create a single Document for the entire file content\n",
    "        doc = Document(page_content=markdown_text)\n",
    "\n",
    "        # Add metadata\n",
    "        doc.metadata[\"source\"] = filename_base\n",
    "        # Use google_drive_path if provided, otherwise use local path\n",
    "        doc.metadata[\"source_path\"] = google_drive_path or filepath \n",
    "        \n",
    "        # NOTE: Since we are not chunking by headers, we won't have a specific header.\n",
    "        # We set it to an empty string or a placeholder.\n",
    "        doc.metadata[\"header\"] = \"\" \n",
    "        \n",
    "        # Since the entire file is one document, these values reflect that.\n",
    "        doc.metadata[\"chunk_index\"] = 0\n",
    "        doc.metadata[\"total_chunks\"] = 1\n",
    "        doc.metadata[\"is_complete_doc\"] = True\n",
    "        \n",
    "        all_documents.append(doc)\n",
    "\n",
    "    print(f\"\\nSuccessfully processed {len(all_documents)} files into documents.\")\n",
    "    return all_documents"
   ]
  },
  {
   "cell_type": "code",
   "execution_count": 23,
   "id": "af21f7b0",
   "metadata": {
    "lines_to_next_cell": 1
   },
   "outputs": [],
   "source": [
    "def create_collection(chroma_client, gemini_embedding_function, documents_list):\n",
    "    \"\"\"\n",
    "    Create or update ChromaDB collection with optimized batch processing.\n",
    "    \"\"\"\n",
    "    DB_NAME = \"hrstud-bot-en\"\n",
    "    embed_fn = gemini_embedding_function\n",
    "    embed_fn.document_mode = True\n",
    "\n",
    "    db = chroma_client.get_or_create_collection(\n",
    "        name=DB_NAME,\n",
    "        metadata={\"model\": \"models/text-embedding-004\", \"dimension\": 768},\n",
    "        embedding_function=embed_fn\n",
    "    )\n",
    "\n",
    "    documents = [doc.page_content for doc in documents_list]\n",
    "    metadatas = [doc.metadata for doc in documents_list]\n",
    "    ids = [f\"{DB_NAME}_doc_{i}\" for i in range(len(documents))]\n",
    "\n",
    "    if db.count() == 0:\n",
    "        print(f\"Adding {len(documents)} documents to ChromaDB collection: {DB_NAME}\")\n",
    "\n",
    "        # Optimized batch size for Gemini API\n",
    "        BATCH_SIZE = 100\n",
    "        \n",
    "        for i in tqdm(range(0, len(documents), BATCH_SIZE), desc=\"Adding documents\", unit=\"batch\"):\n",
    "            batch_end = min(i + BATCH_SIZE, len(documents))\n",
    "            db.add(\n",
    "                documents=documents[i:batch_end],\n",
    "                metadatas=metadatas[i:batch_end],\n",
    "                ids=ids[i:batch_end]\n",
    "            )\n",
    "            # Rate limiting for API stability\n",
    "            time.sleep(0.2)\n",
    "\n",
    "        print(f\"\\nCollection '{DB_NAME}' now contains {db.count()} documents.\")\n",
    "    else:\n",
    "        print(f\"Collection '{DB_NAME}' already has {db.count()} documents.\")"
   ]
  },
  {
   "cell_type": "code",
   "execution_count": 24,
   "id": "891a657a",
   "metadata": {
    "lines_to_next_cell": 1
   },
   "outputs": [],
   "source": [
    "def persistent_client(embed_fn):\n",
    "    \"\"\"\n",
    "    Initialize persistent ChromaDB client.\n",
    "    \"\"\"\n",
    "    persist_dir = \"./output_en\"\n",
    "    chroma_client = chromadb.PersistentClient(path=persist_dir)\n",
    "\n",
    "    DB_NAME = \"hrstud-bot-en\"\n",
    "    collection = chroma_client.get_collection(DB_NAME, embedding_function=embed_fn)\n",
    "\n",
    "    print(f\"Connected to collection: {collection.name}\")\n",
    "    print(f\"Documents: {collection.count()}\")\n",
    "    print(f\"Metadata: {collection.metadata}\")\n",
    "    return embed_fn, collection"
   ]
  },
  {
   "cell_type": "code",
   "execution_count": 51,
   "id": "05886a06",
   "metadata": {},
   "outputs": [],
   "source": [
    "def get_article_en(user_query, embed_fn, collection, client):\n",
    "    \n",
    "    embed_fn.document_mode = False\n",
    "    n_results_to_fetch = 7\n",
    "    result = collection.query(query_texts=[user_query], n_results=n_results_to_fetch)\n",
    "    \n",
    "    all_passages = result[\"documents\"][0]\n",
    "    all_metadatas = result[\"metadatas\"][0]\n",
    "\n",
    "    query_oneline = user_query.replace(\"\\n\", \" \")\n",
    "    print(query_oneline)\n",
    "    \n",
    "    # Extract the main source link (from the first/most relevant result)\n",
    "    main_source_link = all_metadatas[0].get(\"source_path\", \"Link not available\")\n",
    "    \n",
    "    # Construct context\n",
    "    context_list = []\n",
    "    source_links = []  # Collect all unique source links\n",
    "    \n",
    "    for i, (passage, metadata) in enumerate(zip(all_passages, all_metadatas)):\n",
    "        source_name = metadata.get(\"source\", \"Unknown source\")\n",
    "        source_path = metadata.get(\"source_path\", \"\")\n",
    "        \n",
    "        # Collect unique sources for the bottom reference\n",
    "        if source_path and source_path not in source_links:\n",
    "            source_links.append(source_path)\n",
    "        \n",
    "        context_list.append(f\"--- Source: {source_name} (Part {i+1} of {len(all_passages)}) ---\\n{passage.strip()}\")\n",
    "\n",
    "    context = \"\\n\\n\".join(context_list)\n",
    "    \n",
    "    # Format sources for the bottom of the answer\n",
    "    sources_text = \"\\n\".join([f\"- {link}\" for link in source_links])\n",
    "    \n",
    "    prompt = f\"\"\"\n",
    "    You are a kind, precise, and informative chatbot of the **Faculty of Croatian Studies**. \n",
    "    Your main task is to answer questions from students, prospective students, and staff about the faculty, \n",
    "    including information about study programs, courses, departments, admissions, and general school information.\n",
    "\n",
    "    **CRITICAL RULES:**\n",
    "    1.  Use ONLY the information provided in the supplied documentation.\n",
    "    2.  Respond **in English**.\n",
    "    3.  Be concise but complete — **synthesize all relevant details from ALL context sources into ONE cohesive answer**.\n",
    "    4.  If the documentation does not contain the answer, clearly and politely state that you cannot find the answer \n",
    "        in the knowledge base and direct the user to contact the appropriate office.\n",
    "    5.  Note if some classes are not offered in English.\n",
    "    6.  **Do not use phrases like \"Of course, I can help you!\" or \"Here is some information about...\". \n",
    "        Start directly with the relevant answer.**\n",
    "    7.  **IMPORTANT: Provide ONE unified answer, not multiple separate responses for each source.**\n",
    "\n",
    "    **ANSWER FORMATTING:**\n",
    "    * If there is ONE main source, start with: **Source: [Main Source Link]** followed by a blank line.\n",
    "    * If there are MULTIPLE sources, provide the answer first, then at the end add a \"**Sources:**\" section listing all source links.\n",
    "    * Use bold text for key terms (e.g., **Admissions**, **Philosophy**, **Head of Department**).\n",
    "    * **When listing courses taught by a professor, organize them by level:**\n",
    "    - **Undergraduate Courses:**\n",
    "    - **Graduate Courses:**\n",
    "    - **Doctoral Courses:**\n",
    "    * For each course, include relevant details like ECTS credits, course hours, and language availability.\n",
    "    * Responses should be professional and formal, yet polite in tone.\n",
    "    * **Combine information from all sources into a single, coherent response.**\n",
    "    * **DO NOT repeat \"The source link is...\" multiple times. Use it ONCE at the top if there's one main source, OR list all sources at the bottom.**\n",
    "\n",
    "    **AVAILABLE DOCUMENTATION (Context):**\n",
    "    {context}\n",
    "\n",
    "    **USER QUESTION:** {query_oneline}\n",
    "\n",
    "    **INSTRUCTIONS FOR SOURCE CITATION:**\n",
    "    Main source link: {main_source_link}\n",
    "    All source links: {sources_text}\n",
    "\n",
    "    If the answer comes primarily from ONE source, start with \"**Source:** {main_source_link}\".\n",
    "    If the answer uses MULTIPLE sources, end your response with:\n",
    "\n",
    "    **Sources:**\n",
    "    {sources_text}\n",
    "\n",
    "    **ANSWER (provide ONE unified response with courses organized by academic level):**\n",
    "    \"\"\"\n",
    "    \n",
    "    answer = client.models.generate_content(\n",
    "        model=\"gemini-2.0-flash\",\n",
    "        contents=prompt,\n",
    "        config={\n",
    "            \"max_output_tokens\": 2048,\n",
    "            \"temperature\": 0.2,\n",
    "            \"top_p\": 0.9\n",
    "        }\n",
    "    )\n",
    "\n",
    "    return answer.text.strip()"
   ]
  },
  {
   "cell_type": "code",
   "execution_count": 26,
   "id": "7e2725bf",
   "metadata": {},
   "outputs": [
    {
     "name": "stdout",
     "output_type": "stream",
     "text": [
      "Processing 666 markdown files...\n"
     ]
    },
    {
     "name": "stderr",
     "output_type": "stream",
     "text": [
      "Processing documents: 100%|██████████| 666/666 [00:00<00:00, 3140.73it/s]\n"
     ]
    },
    {
     "name": "stdout",
     "output_type": "stream",
     "text": [
      "\n",
      "Successfully processed 666 files into documents.\n",
      "models/embedding-001\n",
      "models/text-embedding-004\n",
      "models/gemini-embedding-exp-03-07\n",
      "models/gemini-embedding-exp\n",
      "models/gemini-embedding-001\n",
      "Collection 'hrstud-bot-en' already has 666 documents.\n"
     ]
    }
   ],
   "source": [
    "# USAGE EXAMPLE - Uncomment to run\n",
    "\n",
    "markdown_folder = \"./markdown_en\"\n",
    "# \n",
    "# # STEP 1: Parse and chunk documents (run once or when documents change)\n",
    "md_documents = parse_markdown_for_metadata(markdown_folder)\n",
    "# \n",
    "# # STEP 2: Create collection and add documents (run once)\n",
    "client = import_google_api()\n",
    "gemini_embedding_function = embedding_function(client)\n",
    "chroma_persistent_client = chromadb.PersistentClient(path=\"./output_en\")\n",
    "create_collection(chroma_persistent_client, gemini_embedding_function, md_documents)"
   ]
  },
  {
   "cell_type": "code",
   "execution_count": 52,
   "id": "52583056",
   "metadata": {},
   "outputs": [
    {
     "name": "stdout",
     "output_type": "stream",
     "text": [
      "models/embedding-001\n",
      "models/text-embedding-004\n",
      "models/gemini-embedding-exp-03-07\n",
      "models/gemini-embedding-exp\n",
      "models/gemini-embedding-001\n",
      "Connected to collection: hrstud-bot-en\n",
      "Documents: 666\n",
      "Metadata: {'dimension': 768, 'model': 'models/text-embedding-004'}\n",
      "Who is Sandro Skansi?\n"
     ]
    },
    {
     "data": {
      "text/markdown": [
       "**Sandro Skansi**, PhD, is the **Head** of the **Council of the Research Institute** at the Faculty of Croatian Studies. He is also a lecturer in charge of several courses. Please note that the lecturer is not able to offer courses in English at this time, except for Logic 2 and Social Philosophy where foreign students can attend additional office hours in English and take exams in English.\n",
       "\n",
       "**Undergraduate Courses:**\n",
       "*   **Social Media and Informal Logic** (Code: 284939): 3.0 ECTS, 15 hours of lectures and 15 hours of seminars. Offered in the 3rd and 5th semesters as an elective course for Philosophy and Culture students (FIL (1826): Izborni kolegiji).\n",
       "*   **Contemporary Philosophy** (Code: 214821): 4.0 ECTS, 30 hours of lectures and 30 hours of seminars. Offered in the 1st semester as a mandatory course for Philosophy students.\n",
       "*   **Introduction to Artificial Intelligence** (Code: 227468): 3.0 ECTS, 15 hours of lectures and 15 hours of seminars. Offered as an elective course for Psychology (PSI (2980) - izborni TZP) in the 2nd semester, for Croatology (KRO (3001) - izborni TZP) in the 2nd and 4th semesters, for Philosophy and Culture (FIL (1826): Izborni kolegiji) in the 4th and 6th semesters, and for Sociology (SOC (2960) - izborni TZP) in the 4th semester.\n",
       "*   **Logic 2** (Code: 214825): 4.0 ECTS, 30 hours of lectures and 30 hours of seminars. Offered in the 3rd semester as a mandatory course for Philosophy and Culture students. Prerequisite: Passed Logic 1.\n",
       "*   **Social Philosophy** (Code: 214837): 3.0 ECTS, 30 hours of lectures. Offered in the 5th semester as a mandatory course for Philosophy and Culture students.\n",
       "\n",
       "**Graduate Courses:**\n",
       "*   **Artificial Intelligence and Natural Language Understanding** (Code: 269284): 5.0 ECTS, 15 hours of lectures and 15 hours of seminars. Offered as an elective course for Philosophy students (FIL-dipl (17272) - Izborni kolegiji) in the 2nd and 4th semesters.\n",
       "\n",
       "**Sources:**\n",
       "*   https://www.fhs.hr/en/research_institute/contacts\n",
       "*   https://www.fhs.hr/en/course/smail\n",
       "*   https://www.fhs.hr/en/course/conphi_a\n",
       "*   https://www.fhs.hr/en/course/itai\n",
       "*   https://www.fhs.hr/en/course/aianlu\n",
       "*   https://www.fhs.hr/en/course/log2_a\n",
       "*   https://www.fhs.hr/en/course/socphi_b"
      ],
      "text/plain": [
       "<IPython.core.display.Markdown object>"
      ]
     },
     "metadata": {},
     "output_type": "display_data"
    }
   ],
   "source": [
    "# STEP 3: Query the system (run for each query)\n",
    "# \n",
    "client = import_google_api()\n",
    "gemini_embedding_function = embedding_function(client)\n",
    "embed_fn, collection = persistent_client(gemini_embedding_function)\n",
    "# \n",
    "user_query = \"Who is Sandro Skansi?\"  # Example query\n",
    "response = get_article_en(\n",
    "    user_query=user_query,\n",
    "    embed_fn=embed_fn,\n",
    "    collection=collection,\n",
    "    client=client,\n",
    ")\n",
    "display(Markdown(response))"
   ]
  },
  {
   "cell_type": "code",
   "execution_count": null,
   "id": "55d872d1",
   "metadata": {},
   "outputs": [
    {
     "name": "stdout",
     "output_type": "stream",
     "text": [
      "\n",
      "############################################################\n",
      "QUERY: What classes does Marko Jerković teach\n",
      "############################################################\n",
      "What classes does Marko Jerković teach\n"
     ]
    },
    {
     "data": {
      "text/markdown": [
       "**Marko Jerković** teaches the following courses:\n",
       "\n",
       "*   **Values of the Croatian constitutional order** (188090): This course is not offered in English. It is an elective course for students in Croatology (KRO) and History (POV). It is available in the 2nd, 4th, and 6th semesters. Course load includes 15 hours of lectures and 15 hours of seminars.\n",
       "*   **Overview of Medieval Latinity** (200544): While all teaching activities are held in Croatian, foreign students in mixed groups have the opportunity to attend additional office hours with the lecturer and teaching assistants in English. The lecturer will also refer foreign students to corresponding literature in English and allow them to take exams in English. This is a mandatory course for Regular studij - Croatian Latinity in the 3rd semester. Course load includes 30 hours of lectures.\n",
       "*   **Roman History and Civilization** (45755): In agreement with students, the lecturer will provide as many teaching elements in English as possible, or in both English and Croatian for mixed groups, including bilingual teaching materials and exams. Additional individual consultations are available for foreign students. It is a mandatory course for Regular studij - Latin language in the 1st semester and an elective course for students in History (POV) and Psychology (PSI) in the 1st semester. It is also an elective course for students in Croatology (KRO), History (POV), and Psychology (PSI) in the 3rd semester. Course load includes 15 hours of lectures and 15 hours of seminars.\n",
       "*   **Croatian History (7-16 centuries)** (38053): While all teaching activities are held in Croatian, foreign students in mixed groups have the opportunity to attend additional office hours with the lecturer and teaching assistants in English. The lecturer will also refer foreign students to corresponding literature in English and allow them to take exams in English. This is a mandatory course for History students in the 2nd semester. Course load includes 30 hours of lectures.\n",
       "*   **Medieval European History** (38043): While all teaching activities are held in Croatian, foreign students in mixed groups have the opportunity to attend additional office hours with the lecturer and teaching assistants in English. The lecturer will also refer foreign students to corresponding literature in English and allow them to take exams in English. This is a mandatory course for History students in the 2nd semester. Course load includes 30 hours of lectures.\n",
       "*   **Cultural History and Latinity: The Middle and Early Modern Ages** (200546): This course is not offered in English. It is a mandatory course for Regular studij - Croatian Latinity in the 3rd semester. Course load includes 30 hours of lectures.\n",
       "*   **Croatian Cultural and Political History of the Middle Ages** (37431): While all teaching activities are held in Croatian, foreign students in mixed groups have the opportunity to attend additional office hours with the lecturer and teaching assistants in English. The lecturer will also refer foreign students to corresponding literature in English and allow them to take exams in English. This is a mandatory course for Croatology students in the 1st semester. Course load includes 30 hours of lectures and 15 hours of seminars.\n",
       "\n",
       "Consultations with **Marko Jerković** are held on Mondays from 13:00 to 14:00 in Location 103.\n",
       "\n",
       "**Sources:**\n",
       "*   [https://www.fhs.hr/en/course/votcco](https://www.fhs.hr/en/course/votcco)\n",
       "*   [https://www.fhs.hr/en/course/ooml_a](https://www.fhs.hr/en/course/ooml_a)\n",
       "*   [https://www.fhs.hr/en/course/rhac](https://www.fhs.hr/en/course/rhac)\n",
       "*   [https://www.fhs.hr/en/course/ch7c](https://www.fhs.hr/en/course/ch7c)\n",
       "*   [https://www.fhs.hr/en/course/meh](https://www.fhs.hr/en/course/meh)\n",
       "*   [https://www.fhs.hr/en/course/chaltmaema](https://www.fhs.hr/en/course/chaltmaema)\n",
       "*   [https://www.fhs.hr/en/course/ccaphotma](https://www.fhs.hr/en/course/ccaphotma)"
      ],
      "text/plain": [
       "<IPython.core.display.Markdown object>"
      ]
     },
     "metadata": {},
     "output_type": "display_data"
    },
    {
     "name": "stdout",
     "output_type": "stream",
     "text": [
      "\n",
      "\n",
      "\n",
      "############################################################\n",
      "QUERY: What classes does Sandro Skansi teach?\n",
      "############################################################\n",
      "What classes does Sandro Skansi teach?\n"
     ]
    },
    {
     "data": {
      "text/markdown": [
       "**Sandro Skansi** teaches the following courses:\n",
       "\n",
       "*   **Artificial Intelligence and Natural Language Understanding** (AIANLU). This course is an elective for Philosophy students in the 2nd and 4th semesters of the Regular study program.\n",
       "*   **Contemporary Philosophy**. This is a mandatory course for Philosophy students in their 1st semester.\n",
       "*   **Introduction to Artificial Intelligence**. This course is an elective for students of Psychology (2nd semester), Croatology (2nd and 4th semesters), Philosophy and Culture (4th and 6th semesters), and Sociology (4th semester).\n",
       "*   **Logic 2**. This is a mandatory course for Philosophy and Culture students in their 3rd semester and requires completion of Logic 1.\n",
       "*   **Political Philosophy**. This course is a mandatory course for Philosophy students in their 1st semester and an elective for Communication Studies students in their 1st and 3rd semesters.\n",
       "*   **Social Media and Informal Logic**. This course is an elective for Philosophy and Culture students in their 3rd and 5th semesters.\n",
       "*   **Social Philosophy**. This is a mandatory course for Philosophy and Culture students in their 5th semester.\n",
       "\n",
       "Please note that **Social Philosophy**, **Logic 2**, and **Political Philosophy** are taught in Croatian. However, foreign students have the opportunity to attend additional office hours in English and may be provided with literature and exams in English. The other courses are not offered in English at this time.\n",
       "\n",
       "**Sources:**\n",
       "*   [https://www.fhs.hr/en/course/conphi_a](https://www.fhs.hr/en/course/conphi_a)\n",
       "*   [https://www.fhs.hr/en/course/smail](https://www.fhs.hr/en/course/smail)\n",
       "*   [https://www.fhs.hr/en/course/aianlu](https://www.fhs.hr/en/course/aianlu)\n",
       "*   [https://www.fhs.hr/en/course/socphi_b](https://www.fhs.hr/en/course/socphi_b)\n",
       "*   [https://www.fhs.hr/en/course/itai](https://www.fhs.hr/en/course/itai)\n",
       "*   [https://www.fhs.hr/en/course/log2_a](https://www.fhs.hr/en/course/log2_a)\n",
       "*   [https://www.fhs.hr/en/course/polphi](https://www.fhs.hr/en/course/polphi)"
      ],
      "text/plain": [
       "<IPython.core.display.Markdown object>"
      ]
     },
     "metadata": {},
     "output_type": "display_data"
    },
    {
     "name": "stdout",
     "output_type": "stream",
     "text": [
      "\n",
      "\n",
      "\n",
      "############################################################\n",
      "QUERY: Who teaches Medieval European History?\n",
      "############################################################\n",
      "Who teaches Medieval European History?\n"
     ]
    },
    {
     "data": {
      "text/markdown": [
       "**Source:** https://www.fhs.hr/en/course/meh\n",
       "\n",
       "The lecturer in charge of the **Medieval European History** course is izv. prof. dr. sc. **Marko Jerković**. The course is a mandatory course for regular **History** students in the 2nd semester. All teaching activities are held in Croatian. However, foreign students in mixed groups have the opportunity to attend additional office hours with the lecturer and teaching assistants in English to help master the course materials. Additionally, the lecturer will refer foreign students to the corresponding literature in English, as well as give them the possibility of taking the associated exams in English. His consultation schedule is Monday, 13.00-14.00 in location 103."
      ],
      "text/plain": [
       "<IPython.core.display.Markdown object>"
      ]
     },
     "metadata": {},
     "output_type": "display_data"
    },
    {
     "name": "stdout",
     "output_type": "stream",
     "text": [
      "\n",
      "\n",
      "\n",
      "############################################################\n",
      "QUERY: What History Undergraduate classes are offered in English?\n",
      "############################################################\n",
      "What History Undergraduate classes are offered in English?\n"
     ]
    },
    {
     "data": {
      "text/markdown": [
       "The **Department of History** offers an undergraduate study program in **History** (single and double major) that aims to analyze the causal relationships between historical processes. \n",
       "While all teaching activities are generally held in Croatian, foreign students in mixed groups have the opportunity to attend additional office hours with the lecturer and teaching assistants in English to help master the course materials. \n",
       "The lecturer will also provide foreign students with corresponding literature in English and the possibility of taking exams in English.\n",
       "\n",
       "Here are some courses offered in the undergraduate **History** program:\n",
       "\n",
       "**1st Semester, 1st Year (Undergraduate):**\n",
       "*   **History and Culture of Ancient Egypt (94019)**\n",
       "*   **History and Culture of the Greek and Roman World (93908)**\n",
       "*   **Methodology of Historical Science and Academic Literacy (130892)**\n",
       "*   **Prehistory and the First Civilizations (93907)**\n",
       "\n",
       "**2nd Semester, 1st Year (Undergraduate):**\n",
       "*   **19th and 20th Century Croatian Historiography (38055)**\n",
       "*   **Croatian History (7-16 centuries) (38053)**\n",
       "*   **Medieval European History (38043)**\n",
       "\n",
       "**3rd Semester, 2nd Year (Undergraduate):**\n",
       "*   **Humanities in the Information Age (284996)**\n",
       "\n",
       "**4th Semester, 2nd Year (Undergraduate):**\n",
       "*   **19th Century History (38058)**\n",
       "*   **Croatian History in the 19th Century (38059)**\n",
       "*   **History of the USA from the First Colonies to the End of the 19th Century (284988)**\n",
       "\n",
       "**5th Semester, 3rd Year (Undergraduate):**\n",
       "*   **20th Century History (38065)**\n",
       "*   **Resistance in Croatian history from the Early modern period to modern times (270149)**\n",
       "*   **The Croatian People in the First Half of the 20th Century (188122)**\n",
       "\n",
       "**6th Semester, 3rd Year (Undergraduate):**\n",
       "*   **BA work (38774)**\n",
       "*   **Croatia in the Second Half of the 20th Century (38067)**\n",
       "*   **Croatian Heraldry and Semiotics of Coats of Arms (200603)**\n",
       "*   **History of Austria (239951)**\n",
       "\n",
       "Please note that the lecturer is currently unable to offer courses in English.\n",
       "\n",
       "**Sources:**\n",
       "*   [https://www.fhs.hr/en/undergraduate_study/history](https://www.fhs.hr/en/undergraduate_study/history)\n",
       "*   [https://www.fhs.hr/en/undergraduate_study/double_major/history](https://www.fhs.hr/en/undergraduate_study/double_major/history)\n",
       "*   [https://www.fhs.hr/en/course/emeawh](https://www.fhs.hr/en/course/emeawh)\n",
       "*   [https://www.fhs.hr/en/course/1ch](https://www.fhs.hr/en/course/1ch)\n",
       "*   [https://www.fhs.hr/en/course/cph](https://www.fhs.hr/en/course/cph)\n",
       "*   [https://www.fhs.hr/en/course/hotuftfctteot1c_b](https://www.fhs.hr/en/course/hotuftfctteot1c_b)\n",
       "*   [https://www.fhs.hr/en/course/rgioems](https://www.fhs.hr/en/course/rgioems)"
      ],
      "text/plain": [
       "<IPython.core.display.Markdown object>"
      ]
     },
     "metadata": {},
     "output_type": "display_data"
    },
    {
     "name": "stdout",
     "output_type": "stream",
     "text": [
      "\n",
      "\n",
      "\n",
      "############################################################\n",
      "QUERY: What is the number of Snježana Konovski?\n",
      "############################################################\n",
      "What is the number of Snježana Konovski?\n"
     ]
    },
    {
     "data": {
      "text/markdown": [
       "I am sorry, but I cannot find the phone number for Snježana Konovski in the provided documentation.\n",
       "\n",
       "You may wish to contact the appropriate office for assistance.\n",
       "\n",
       "**Sources:**\n",
       "- fhs.hr_en_deanery_procurement_department.md\n",
       "- fhs.hr_en_deanery_maintenance_service.md\n",
       "- fhs.hr_en_deanery_legal_and_human_resources_service.md\n",
       "- fhs.hr_en_course_bawor.md\n",
       "- fhs.hr_en_course_fie1.md\n",
       "- fhs.hr_en_course_smail.md\n",
       "- fhs.hr_en_deanery_accounting_and_finance_service.md"
      ],
      "text/plain": [
       "<IPython.core.display.Markdown object>"
      ]
     },
     "metadata": {},
     "output_type": "display_data"
    },
    {
     "name": "stdout",
     "output_type": "stream",
     "text": [
      "\n",
      "\n"
     ]
    }
   ],
   "source": [
    "# ADVANCED: Test multiple queries\n",
    "# \n",
    "test_queries = [\n",
    "    \"What classes does Marko Jerković teach\",\n",
    "    \"What classes does Sandro Skansi teach?\",\n",
    "    \"Who teaches Medieval European History?\",\n",
    "    \"What History Undergraduate classes are offered in English?\",\n",
    "    \"What is the number of Snježana Konovski?\" # ili nema ili je premalo podataka na en stranici\n",
    "\n",
    "]\n",
    "# \n",
    "for query in test_queries:\n",
    "    print(f\"\\n{'#'*60}\")\n",
    "    print(f\"QUERY: {query}\")\n",
    "    print(f\"{'#'*60}\")\n",
    "    response = get_article_en(\n",
    "        user_query=query,\n",
    "        embed_fn=embed_fn,\n",
    "        collection=collection,\n",
    "        client=client,\n",
    "    )\n",
    "    display(Markdown(response))\n",
    "    print(\"\\n\")"
   ]
  },
  {
   "cell_type": "code",
   "execution_count": 39,
   "id": "5f6889c3",
   "metadata": {},
   "outputs": [
    {
     "name": "stdout",
     "output_type": "stream",
     "text": [
      "\n",
      "############################################################\n",
      "QUERY: What History Undergraduate classes are offered in English?\n",
      "############################################################\n",
      "What History Undergraduate classes are offered in English?\n"
     ]
    },
    {
     "data": {
      "text/markdown": [
       "The Faculty of Croatian Studies offers undergraduate study programs in **History** as both a single major and a double major. The purpose of these programs is to analyze the causal relationships between historical processes and develop critical thinking skills.\n",
       "\n",
       "Here are some courses offered in the **History (Single Major)** program for the academic year 2025/2026, with courses in English:\n",
       "\n",
       "*   **1st Semester, 1st Year:**\n",
       "    *   History and Culture of Ancient Egypt (94019)\n",
       "    *   History and Culture of the Greek and Roman World (93908)\n",
       "    *   Methodology of Historical Science and Academic Literacy (130892)\n",
       "    *   Prehistory and the First Civilizations (93907)\n",
       "    *   Ancient city on the Eastern Coast of the Adriatic (270102)\n",
       "    *   Funeral Traditions and Architecture of Egyptian Civilization (158244)\n",
       "    *   The Ancient Cities of Continental Croatia (270103)\n",
       "    *   The Great Figures of Christianity: Between History, Tradition, and Myth (270101)\n",
       "    *   Everyday Life in Ancient Rome (33169)\n",
       "    *   Greco-Roman Religion (37562)\n",
       "    *   Greek Influence on Roman Culture (86146)\n",
       "    *   Roman Comedy (38874)\n",
       "    *   Roman History and Civilization (45755)\n",
       "*   **2nd Semester, 1st Year:**\n",
       "    *   Croatian History (7-16 centuries) (38053)\n",
       "    *   Medieval European History (38043)\n",
       "    *   Contacts between civilizations in late antiquity and the early Middle Ages (209791)\n",
       "    *   Croatian National Rulers (248673)\n",
       "    *   Society and Religion: 13th - 15th Century (130475)\n",
       "*   **3rd Semester, 2nd Year:**\n",
       "    *   Croatian History (16th-18th Centuries) (38056)\n",
       "    *   Croatian Latin Historiography (38057)\n",
       "    *   Early Modern European and World History (38054)\n",
       "    *   Humanities in the Information Age (284996)\n",
       "    *   Catholic religious orders in Croatian culture (173127)\n",
       "    *   Croatian Modern age in the eyes of Contemporaries (270105)\n",
       "    *   Culture of Memory and Places of Remembrance (227641)\n",
       "    *   History of Dubrovnik and the Dubrovnik Republic (214655)\n",
       "    *   History of Modern Cities (284985)\n",
       "    *   History of Russia (214657)\n",
       "    *   History of the USA from the First Colonies to the End of the 19th Century (284988)\n",
       "    *   The Profession of Historian (284998)\n",
       "    *   Vlachs in European and Croatian culture (284989)\n",
       "*   **4th Semester, 2nd Year:**\n",
       "    *   19th Century History (38058)\n",
       "    *   Croatian History in the 19th Century (38059)\n",
       "    *   Introduction to the Auxiliary Sciences of History (153264)\n",
       "    *   Catholic religious orders in Croatian culture (173127)\n",
       "    *   Croatian Modern age in the eyes of Contemporaries (270105)\n",
       "    *   Culture of Memory and Places of Remembrance (227641)\n",
       "    *   History of Dubrovnik and the Dubrovnik Republic (214655)\n",
       "    *   History of Modern Cities (284985)\n",
       "    *   History of Russia (214657)\n",
       "    *   History of the USA from the First Colonies to the End of the 19th Century (284988)\n",
       "    *   The Profession of Historian (284998)\n",
       "    *   Vlachs in European and Croatian culture (284989)\n",
       "*   **5th Semester, 3rd Year:**\n",
       "    *   20th Century History (38065)\n",
       "    *   Resistance in Croatian history from the Early modern period to modern times (270149)\n",
       "    *   The Croatian People in the First Half of the 20th Century (188122)\n",
       "    *   Crimes of the Yugoslav Communist Regimes (213991)\n",
       "    *   Croatian Hagiography (228732)\n",
       "    *   Croatian History - Selected Topics 1929-1941 (202951)\n",
       "    *   History and function of the International Criminal Tribunal for the former Yugoslavia (ICTY) in Hague (270197)\n",
       "    *   Independent State of Croatia (214680)\n",
       "    *   Military and police operations in the Croatian War of Independence 1991-1995 (270106)\n",
       "    *   Military and Political Aspects of the Battle of Vukovar (270365)\n",
       "    *   Military history of the second half of the 20th century (270196)\n",
       "    *   State Leaders in the 20th century (270186)\n",
       "    *   The history of Communism from Karl Marx to Fidel Castro (173129)\n",
       "    *   World War II in feature film (285826)\n",
       "*   **6th Semester, 3rd Year:**\n",
       "    *   Croatia in the Second Half of the 20th Century (38067)\n",
       "    *   Croatian Heraldry and Semiotics of Coats of Arms (200603)\n",
       "    *   History of Austria (239951)\n",
       "    *   Crimes of the Yugoslav Communist Regimes (213991)\n",
       "    *   Croatian Hagiography (228732)\n",
       "    *   Croatian History - Selected Topics 1929-1941 (202951)\n",
       "    *   History and function of the International Criminal Tribunal for the former Yugoslavia (ICTY) in Hague (270197)\n",
       "    *   Independent State of Croatia (214680)\n",
       "    *   Military and police operations in the Croatian War of Independence 1991-1995 (270106)\n",
       "    *   Military and Political Aspects of the Battle of Vukovar (270365)\n",
       "    *   Military history of the second half of the 20th century (270196)\n",
       "    *   State Leaders in the 20th century (270186)\n",
       "    *   The history of Communism from Karl Marx to Fidel Castro (173129)\n",
       "    *   World War II in feature film (285826)\n",
       "\n",
       "While all teaching activities are held in Croatian, foreign students in mixed groups have the opportunity to attend additional office hours with the lecturer and teaching assistants in English to help master the course materials. The lecturer will also provide corresponding literature in English and allow exams to be taken in English. However, some courses like **History of the USA from the First Colonies to the End of the 19th Century** are not offered in English at this time.\n",
       "\n",
       "**Sources:**\n",
       "- fhs.hr_en_undergraduate_study_history.md\n",
       "- fhs.hr_en_undergraduate_study_double_major_history.md\n",
       "- fhs.hr_en_course_emeawh.md\n",
       "- fhs.hr_en_course_1ch.md\n",
       "- fhs.hr_en_course_cph.md\n",
       "- fhs.hr_en_course_hotuftfctteot1c_b.md\n",
       "- fhs.hr_en_course_rgioems.md"
      ],
      "text/plain": [
       "<IPython.core.display.Markdown object>"
      ]
     },
     "metadata": {},
     "output_type": "display_data"
    },
    {
     "name": "stdout",
     "output_type": "stream",
     "text": [
      "\n",
      "\n",
      "\n",
      "############################################################\n",
      "QUERY: What is the number of Snježana Konovski?\n",
      "############################################################\n",
      "What is the number of Snježana Konovski?\n"
     ]
    },
    {
     "data": {
      "text/markdown": [
       "I am sorry, but I cannot find information about Snježana Konovski in the knowledge base.\n",
       "\n",
       "**Sources:**\n",
       "- fhs.hr_en_deanery_procurement_department.md\n",
       "- fhs.hr_en_deanery_maintenance_service.md\n",
       "- fhs.hr_en_deanery_legal_and_human_resources_service.md\n",
       "- fhs.hr_en_course_bawor.md\n",
       "- fhs.hr_en_course_fie1.md\n",
       "- fhs.hr_en_course_smail.md\n",
       "- fhs.hr_en_deanery_accounting_and_finance_service.md"
      ],
      "text/plain": [
       "<IPython.core.display.Markdown object>"
      ]
     },
     "metadata": {},
     "output_type": "display_data"
    },
    {
     "name": "stdout",
     "output_type": "stream",
     "text": [
      "\n",
      "\n"
     ]
    }
   ],
   "source": [
    "# ADVANCED: Test multiple queries\n",
    "# \n",
    "test_queries = [\n",
    "    \"What History Undergraduate classes are offered in English?\",\n",
    "    \"What is the number of Snježana Konovski?\"\n",
    "\n",
    "]\n",
    "# \n",
    "for query in test_queries:\n",
    "    print(f\"\\n{'#'*60}\")\n",
    "    print(f\"QUERY: {query}\")\n",
    "    print(f\"{'#'*60}\")\n",
    "    response = get_article_en(\n",
    "        user_query=query,\n",
    "        embed_fn=embed_fn,\n",
    "        collection=collection,\n",
    "        client=client,\n",
    "    )\n",
    "    display(Markdown(response))\n",
    "    print(\"\\n\")"
   ]
  }
 ],
 "metadata": {
  "jupytext": {
   "cell_metadata_filter": "-all",
   "main_language": "python",
   "notebook_metadata_filter": "-all"
  },
  "kernelspec": {
   "display_name": ".venv",
   "language": "python",
   "name": "python3"
  },
  "language_info": {
   "codemirror_mode": {
    "name": "ipython",
    "version": 3
   },
   "file_extension": ".py",
   "mimetype": "text/x-python",
   "name": "python",
   "nbconvert_exporter": "python",
   "pygments_lexer": "ipython3",
   "version": "3.12.3"
  }
 },
 "nbformat": 4,
 "nbformat_minor": 5
}
